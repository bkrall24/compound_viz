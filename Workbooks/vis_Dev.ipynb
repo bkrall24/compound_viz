{
 "cells": [
  {
   "cell_type": "code",
   "execution_count": 1,
   "metadata": {},
   "outputs": [],
   "source": [
    "import networkx as nx\n",
    "import streamlit as st\n",
    "import plotly.graph_objects as go\n",
    "from plotly.subplots import make_subplots"
   ]
  },
  {
   "cell_type": "code",
   "execution_count": 5,
   "metadata": {},
   "outputs": [],
   "source": [
    "G = nx.karate_club_graph()\n",
    "\n",
    "# Create position dictionary using spring layout\n",
    "pos = nx.spring_layout(G)\n",
    "node_positions = {node: (x * 1000, y * 1000) for node, (x, y) in pos.items()}\n",
    "\n",
    "# Example compounds with their edges\n",
    "compounds = {\n",
    "    \"Compound A\": [(0, 1), (1, 2), (2, 3)],\n",
    "    \"Compound B\": [(2, 3), (3, 4), (4, 5)],\n",
    "    \"Compound C\": [(5, 6), (6, 7), (7, 8)]\n",
    "}\n",
    "\n",
    "# Streamlit UI: allow the user to select which compound to view\n",
    "# selected_compound = st.sidebar.selectbox(\"Select a compound:\", [\"All\"] + list(compounds.keys()))\n",
    "selected_compound = \"Compound A\"\n",
    "\n",
    "# Create Plotly graph\n",
    "edge_x = []\n",
    "edge_y = []\n",
    "for edge in G.edges():\n",
    "    x0, y0 = pos[edge[0]]\n",
    "    x1, y1 = pos[edge[1]]\n",
    "    edge_x.append(x0)\n",
    "    edge_x.append(x1)\n",
    "    edge_y.append(y0)\n",
    "    edge_y.append(y1)\n",
    "\n",
    "edge_trace = go.Scatter(\n",
    "    x=edge_x, y=edge_y,\n",
    "    line=dict(width=0.5, color='#888'),\n",
    "    hoverinfo='none',\n",
    "    mode='lines'\n",
    ")\n",
    "\n",
    "node_x = []\n",
    "node_y = []\n",
    "for node in G.nodes():\n",
    "    x, y = pos[node]\n",
    "    node_x.append(x)\n",
    "    node_y.append(y)\n",
    "\n",
    "node_trace = go.Scatter(\n",
    "    x=node_x, y=node_y,\n",
    "    mode='markers',\n",
    "    hoverinfo='text',\n",
    "    marker=dict(\n",
    "        size=10,\n",
    "        color='blue',\n",
    "        line_width=2\n",
    "    )\n",
    ")\n",
    "\n",
    "# Add hover functionality\n",
    "node_trace.marker.color = 'blue'  # Default color\n",
    "node_trace.hoverinfo = 'text'\n",
    "node_trace.text = [f'Node {node}' for node in G.nodes()]\n",
    "\n",
    "# Filter edges for the selected compound\n",
    "# edges_to_display = []\n",
    "# if selected_compound != \"All\":\n",
    "#     compound_edges = compounds[selected_compound]\n",
    "#     for edge in compound_edges:\n",
    "#         if edge in G.edges() or (edge[1], edge[0]) in G.edges():\n",
    "#             x0, y0 = pos[edge[0]]\n",
    "#             x1, y1 = pos[edge[1]]\n",
    "#             edges_to_display.append([x0, y0, x1, y1])"
   ]
  },
  {
   "cell_type": "code",
   "execution_count": 10,
   "metadata": {},
   "outputs": [],
   "source": [
    "edges_to_display = []\n",
    "if selected_compound != \"All\":\n",
    "    compound_edges = compounds[selected_compound]\n",
    "    for edge in compound_edges:\n",
    "        if edge in G.edges() or (edge[1], edge[0]) in G.edges():\n",
    "            x0, y0 = pos[edge[0]]\n",
    "            x1, y1 = pos[edge[1]]\n",
    "            edges_to_display.append([(x0, y0), (x1, y1)])\n",
    "\n",
    "# Create edge traces for the selected compound\n",
    "edge_trace_selected = go.Scatter(\n",
    "    x=[x for x, y in edges_to_display], \n",
    "    y=[y for x, y in edges_to_display],\n",
    "    line=dict(width=2, color='red'),\n",
    "    hoverinfo='none',\n",
    "    mode='lines'\n",
    ")\n"
   ]
  },
  {
   "cell_type": "code",
   "execution_count": 11,
   "metadata": {},
   "outputs": [
    {
     "data": {
      "text/plain": [
       "Scatter({\n",
       "    'hoverinfo': 'none',\n",
       "    'line': {'color': 'red', 'width': 2},\n",
       "    'mode': 'lines',\n",
       "    'x': [[-0.3780216858793844, 0.2584850672649352], [-0.334446405888577,\n",
       "          -0.0031482779612144723], [-0.08333786718481971, 0.01144088805643723]],\n",
       "    'y': [[-0.334446405888577, -0.0031482779612144723], [-0.08333786718481971,\n",
       "          0.01144088805643723], [-0.4742720150049916, -0.008233988594917644]]\n",
       "})"
      ]
     },
     "execution_count": 11,
     "metadata": {},
     "output_type": "execute_result"
    }
   ],
   "source": [
    "edge_trace_selected"
   ]
  },
  {
   "cell_type": "code",
   "execution_count": null,
   "metadata": {},
   "outputs": [],
   "source": [
    "viz_data = pd.read_excel(\"/Users/rebeccakrall/Desktop/Visualization.xlsx\", skiprows =1 )\n",
    "viz_header = pd.read_excel(\"/Users/rebeccakrall/Desktop/Visualization.xlsx\", header = [0,1])\n",
    "data_only = viz_data.iloc[:,5:-1]\n",
    "column_cats = {k:v for v,k in viz_header.iloc[:,5:-1].columns}\n",
    "\n",
    "lowest_dose = pd.DataFrame()\n",
    "max_val = viz_data.iloc[:, -1]\n",
    "for c in data_only.columns:\n",
    "    if data_only[c].dtype != 'float64':\n",
    "        vals = data_only[c].str.split(',', expand = True)[0]\n",
    "        vals = vals.apply(lambda x: np.nan if 't' in str(x) else x)\n",
    "    else:\n",
    "        vals = data_only[c]\n",
    "    dose = vals.astype(float)/max_val.astype(float)\n",
    "    lowest_dose[c] = dose\n",
    "lowest_dose = lowest_dose.dropna(axis = 1, how= 'all')\n",
    "\n",
    "var_mapping = {}\n",
    "for ind,col in enumerate(lowest_dose.columns):\n",
    "    var_mapping[col] = ind"
   ]
  }
 ],
 "metadata": {
  "kernelspec": {
   "display_name": "viz",
   "language": "python",
   "name": "python3"
  },
  "language_info": {
   "codemirror_mode": {
    "name": "ipython",
    "version": 3
   },
   "file_extension": ".py",
   "mimetype": "text/x-python",
   "name": "python",
   "nbconvert_exporter": "python",
   "pygments_lexer": "ipython3",
   "version": "3.11.4"
  }
 },
 "nbformat": 4,
 "nbformat_minor": 2
}
